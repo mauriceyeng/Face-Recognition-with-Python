{
 "cells": [
  {
   "cell_type": "code",
   "execution_count": 5,
   "id": "189e2fd3",
   "metadata": {},
   "outputs": [],
   "source": [
    "import numpy as np\n",
    "import cv2\n",
    "import os\n",
    "\n",
    "os.chdir(r\"C:\\Users\\mauri\\Documents\\Face-Recognition-with-Python\")\n",
    "\n",
    "face_cascade=cv2.CascadeClassifier(\"harrcascade.xml\")\n",
    "eye_cascade=cv2.CascadeClassifier(\"cascadeeyes.xml\")\n",
    "smile_cascade=cv2.CascadeClassifier(\"cascadesmile.xml\")\n",
    "\n",
    "\n",
    "def detect_face(image):\n",
    "    face_copy=image.copy()\n",
    "    \n",
    "    face_rects=face_cascade.detectMultiScale(face_copy,1.3,1)\n",
    "    for(x,y,w,h) in face_rects:\n",
    "        cv2.rectangle(face_copy,(x,y),(x+w,y+h),(0,0,255),1)\n",
    "        \n",
    "    eye_rects=eye_cascade.detectMultiScale(face_copy,1.1,1)\n",
    "    for(x,y,w,h) in eye_rects:\n",
    "        cv2.rectangle(face_copy,(x,y),(x+w,y+h),(0,0,255),1)\n",
    "    \n",
    "    smile_rects=smile_cascade.detectMultiScale(face_copy,1.7,22)\n",
    "    for(x,y,w,h) in smile_rects:\n",
    "        cv2.rectangle(face_copy,(x,y),(x+w,y+h),(0,0,255),1)\n",
    "        \n",
    "    return face_copy\n",
    "                      \n",
    "                      \n",
    "capture=cv2.VideoCapture(0)\n",
    "\n",
    "while True:\n",
    "    ret,frame=capture.read()\n",
    "    frame=cv2.cvtColor(frame,cv2.COLOR_BGR2BGRA)\n",
    "    output=detect_face(frame) \n",
    "    cv2.imshow(\"output\",output)\n",
    "    \n",
    "    if cv2.waitKey(1) & 0xff==ord('a'):\n",
    "        break\n",
    "        \n",
    "capture.release()\n",
    "cv2.destroyAllWindows()"
   ]
  },
  {
   "cell_type": "code",
   "execution_count": null,
   "id": "e7ccfaeb",
   "metadata": {},
   "outputs": [],
   "source": [
    "pip install opencv-python"
   ]
  },
  {
   "cell_type": "code",
   "execution_count": null,
   "id": "533700ab",
   "metadata": {},
   "outputs": [],
   "source": []
  },
  {
   "cell_type": "code",
   "execution_count": null,
   "id": "dd6739d0",
   "metadata": {},
   "outputs": [],
   "source": []
  }
 ],
 "metadata": {
  "kernelspec": {
   "display_name": "Python 3 (ipykernel)",
   "language": "python",
   "name": "python3"
  },
  "language_info": {
   "codemirror_mode": {
    "name": "ipython",
    "version": 3
   },
   "file_extension": ".py",
   "mimetype": "text/x-python",
   "name": "python",
   "nbconvert_exporter": "python",
   "pygments_lexer": "ipython3",
   "version": "3.11.5"
  }
 },
 "nbformat": 4,
 "nbformat_minor": 5
}
